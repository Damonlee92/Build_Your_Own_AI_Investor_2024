{
 "cells": [
  {
   "cell_type": "markdown",
   "metadata": {},
   "source": [
    "# Exercise 5 – Numpy Basics\n",
    "Here we get aquainted with Numpy."
   ]
  },
  {
   "cell_type": "code",
   "execution_count": 1,
   "metadata": {},
   "outputs": [],
   "source": [
    "# Code from Book: Build Your Own AI Investor\n",
    "# Damon Lee 2021\n",
    "# Check out the performance on www.valueinvestingai.com\n",
    "# Code uses data from the (presumably) nice people at https://simfin.com/. \n",
    "# Feel free to fork this code for others to see what can be done with it."
   ]
  },
  {
   "cell_type": "code",
   "execution_count": 4,
   "metadata": {},
   "outputs": [],
   "source": [
    "# Set the plotting DPI settings to be a bit higher.\n",
    "import matplotlib.pyplot as plt\n",
    "plt.rcParams['figure.figsize'] = [8.0, 5.0]\n",
    "plt.rcParams['figure.dpi'] = 150"
   ]
  },
  {
   "cell_type": "markdown",
   "metadata": {},
   "source": [
    "### Some basics"
   ]
  },
  {
   "cell_type": "code",
   "execution_count": 5,
   "metadata": {},
   "outputs": [],
   "source": [
    "import numpy as np # Import Numpy"
   ]
  },
  {
   "cell_type": "code",
   "execution_count": 6,
   "metadata": {},
   "outputs": [
    {
     "name": "stdout",
     "output_type": "stream",
     "text": [
      "2.1972245773362196\n",
      "8103.083927575384\n",
      "0.4121184852417566\n",
      "-0.9111302618846769\n"
     ]
    }
   ],
   "source": [
    "# The library has mathematical functions like in the math library, for example:\n",
    "print(np.log(9)) # Logarithm\n",
    "print(np.exp(9)) # Exponential\n",
    "print(np.sin(9)) # Sine\n",
    "print(np.cos(9)) # Cosine"
   ]
  },
  {
   "cell_type": "code",
   "execution_count": 7,
   "metadata": {},
   "outputs": [
    {
     "name": "stdout",
     "output_type": "stream",
     "text": [
      "[1 2 3 4 5]\n",
      "\n",
      "An array made with range() instead: [5 6 7 8 9]\n",
      "\n",
      "An array made with linspace() instead: [1.2  1.85 2.5  3.15 3.8 ]\n",
      "\n",
      "numpy array type is:  <class 'numpy.ndarray'>\n",
      "\n",
      "The first item is: 1.2\n",
      "The second item is: 1.8499999999999999\n",
      "The third item is: 2.5\n",
      "\n",
      "The first item is now: 9.0\n",
      "\n",
      "The array is now: [99.   99.   99.    3.15  3.8 ]\n",
      "\n",
      "The max of our array is: 99.0\n",
      "The min of our array is: 3.1499999999999995\n",
      "The mean of our array is: 60.79\n"
     ]
    }
   ],
   "source": [
    "# However the main use of Numpy is to do computing with matricies.\n",
    "# To make a 1 dimensional array use np.array and pass a list to it:\n",
    "# (It is like a list except all items in the array ARE ALWAYS \n",
    "# the same type. e.g. strings, integers, floating point numbers)\n",
    "a = np.array([1, 2, 3, 4, 5])\n",
    "print(a)\n",
    "\n",
    "# Can also make an array with range().\n",
    "a = np.array(range(5,10))\n",
    "print('\\nAn array made with range() instead:', a)\n",
    "\n",
    "# For evenly spaced numbers over a specified interval use linspace\n",
    "a = np.linspace(1.2, 3.8, num=5)\n",
    "print('\\nAn array made with linspace() instead:', a)\n",
    "\n",
    "# To see the type of object this is:\n",
    "print('\\nnumpy array type is: ', type(a))\n",
    "\n",
    "# As with lists you can see individual items like so:\n",
    "print('\\nThe first item is:', a[0])\n",
    "print('The second item is:', a[1])\n",
    "print('The third item is:', a[2])\n",
    "\n",
    "# You can change items in the array the same was as with lists:\n",
    "a[0] = 9 # change first number to be 9.\n",
    "print('\\nThe first item is now:', a[0])\n",
    "\n",
    "# As with lists, you can select a range of values with numpy:\n",
    "a[0:3] = 99 # change the first 3 items to be 999\n",
    "print('\\nThe array is now:', a)\n",
    "\n",
    "# we can find max, min, mean etc.\n",
    "print('\\nThe max of our array is:', a.max())\n",
    "print('The min of our array is:', a.min())\n",
    "print('The mean of our array is:', a.mean())"
   ]
  },
  {
   "cell_type": "code",
   "execution_count": 8,
   "metadata": {},
   "outputs": [
    {
     "name": "stdout",
     "output_type": "stream",
     "text": [
      "[[ 1  2  3  4  5]\n",
      " [ 6  7  8  9 10]]\n",
      "\n",
      "The matrix dimensions are: (2, 5)\n",
      "\n",
      "Item in first row, third column is:  3\n",
      "Item in second row, fifth column is:  5\n",
      "\n",
      "Reshaped matrix is: \n",
      " [[ 1  2]\n",
      " [ 3  4]\n",
      " [ 5  6]\n",
      " [ 7  8]\n",
      " [ 9 10]]\n",
      "\n",
      "Transposed matrix is: \n",
      " [[ 1  6]\n",
      " [ 2  7]\n",
      " [ 3  8]\n",
      " [ 4  9]\n",
      " [ 5 10]]\n",
      "\n",
      "Unraveled matrix is: \n",
      " [ 1  2  3  4  5  6  7  8  9 10]\n"
     ]
    }
   ],
   "source": [
    "# Numpy arrays can have more than one dimension, \n",
    "# for example the following is a 2D matrix, \n",
    "# created with a list of lists.\n",
    "m = np.array([[1, 2, 3, 4, 5], [6, 7, 8, 9, 10]]) \n",
    "print(m)\n",
    "\n",
    "# You can extract the size in any dimension from \n",
    "# this array with .shape (Which returns a tuple)\n",
    "print('\\nThe matrix dimensions are:', m.shape)\n",
    "\n",
    "# With multidimensional arrays you can see and \n",
    "# change items within them with indexing, but you \n",
    "# need as many indexes as there are dimensions to \n",
    "# specify the item location.\n",
    "# Remember indexing begins at 0!\n",
    "print('\\nItem in first row, third column is: ', m[0,2])\n",
    "print('Item in second row, fifth column is: ', m[0,4])\n",
    "\n",
    "# Arrays can be manipulated in various ways, for instance rehape:\n",
    "rsm = m.reshape(5,2) # Change the shape to be 5 rows and 2 columns\n",
    "print('\\nReshaped matrix is: \\n', rsm)\n",
    "\n",
    "tm = m.transpose()\n",
    "print('\\nTransposed matrix is: \\n', tm)\n",
    "\n",
    "into_line = m.ravel()\n",
    "print('\\nUnraveled matrix is: \\n', into_line)"
   ]
  },
  {
   "cell_type": "code",
   "execution_count": 9,
   "metadata": {},
   "outputs": [
    {
     "name": "stdout",
     "output_type": "stream",
     "text": [
      "\n",
      " [[0. 0. 0. 0.]\n",
      " [0. 0. 0. 0.]\n",
      " [0. 0. 0. 0.]]\n",
      "\n",
      " [[1. 1. 1. 1. 1. 1. 1. 1.]\n",
      " [1. 1. 1. 1. 1. 1. 1. 1.]\n",
      " [1. 1. 1. 1. 1. 1. 1. 1.]\n",
      " [1. 1. 1. 1. 1. 1. 1. 1.]\n",
      " [1. 1. 1. 1. 1. 1. 1. 1.]\n",
      " [1. 1. 1. 1. 1. 1. 1. 1.]\n",
      " [1. 1. 1. 1. 1. 1. 1. 1.]\n",
      " [1. 1. 1. 1. 1. 1. 1. 1.]\n",
      " [1. 1. 1. 1. 1. 1. 1. 1.]\n",
      " [1. 1. 1. 1. 1. 1. 1. 1.]]\n",
      "\n",
      " [[3.14 3.14 3.14 3.14 3.14]\n",
      " [3.14 3.14 3.14 3.14 3.14]\n",
      " [3.14 3.14 3.14 3.14 3.14]\n",
      " [3.14 3.14 3.14 3.14 3.14]\n",
      " [3.14 3.14 3.14 3.14 3.14]]\n",
      "\n",
      " Here is a 3D matrix: \n",
      " [[[1. 1. 1.]\n",
      "  [1. 1. 1.]\n",
      "  [1. 1. 1.]]\n",
      "\n",
      " [[1. 1. 1.]\n",
      "  [1. 1. 1.]\n",
      "  [1. 1. 1.]]\n",
      "\n",
      " [[1. 1. 1.]\n",
      "  [1. 1. 1.]\n",
      "  [1. 1. 1.]]]\n"
     ]
    }
   ],
   "source": [
    "# You can also create numpy arrays with zeros, ones in them etc.\n",
    "a_z = np.zeros((3,4)) # Create an array with just zeros in it, 3x4\n",
    "print('\\n', a_z)             \n",
    "\n",
    "a_o = np.ones((10,8)) # Create an array with just ones in it\n",
    "print('\\n', a_o)\n",
    "\n",
    "a_pi = np.full((5,5), 3.14) # Create an array filled with one number\n",
    "print('\\n', a_pi)\n",
    "\n",
    "# Remember these arrays are multidimensional, \n",
    "# you can make a 3D array if you really need it...\n",
    "d_mat = np.ones((3,3,3))\n",
    "print('\\n Here is a 3D matrix: \\n', d_mat)   "
   ]
  },
  {
   "cell_type": "code",
   "execution_count": 10,
   "metadata": {},
   "outputs": [
    {
     "name": "stdout",
     "output_type": "stream",
     "text": [
      "Our large matrix of ones is now: \n",
      " [[1.   1.   1.   1.   1.   1.   1.   1.  ]\n",
      " [1.   1.   1.   1.   1.   1.   1.   1.  ]\n",
      " [1.   1.   9.87 9.87 9.87 9.87 9.87 9.87]\n",
      " [1.   1.   9.87 9.87 9.87 9.87 9.87 9.87]\n",
      " [1.   1.   9.87 9.87 9.87 9.87 9.87 9.87]\n",
      " [1.   1.   9.87 9.87 9.87 9.87 9.87 9.87]\n",
      " [1.   1.   1.   1.   1.   1.   1.   1.  ]\n",
      " [1.   1.   1.   1.   1.   1.   1.   1.  ]\n",
      " [1.   1.   1.   1.   1.   1.   1.   1.  ]\n",
      " [1.   1.   1.   1.   1.   1.   1.   1.  ]]\n"
     ]
    }
   ],
   "source": [
    "# Array indexing works just the same with 2D matrices, \n",
    "# for instance with our array of ones:\n",
    "a_o[2:6,2:]=9.87\n",
    "print('Our large matrix of ones is now: \\n', a_o)"
   ]
  },
  {
   "cell_type": "code",
   "execution_count": 11,
   "metadata": {},
   "outputs": [
    {
     "name": "stdout",
     "output_type": "stream",
     "text": [
      "Our large matrix is now: \n",
      " [[2.71828183e+00 2.71828183e+00 2.71828183e+00 2.71828183e+00\n",
      "  2.71828183e+00 2.71828183e+00 2.71828183e+00 2.71828183e+00]\n",
      " [2.71828183e+00 2.71828183e+00 2.71828183e+00 2.71828183e+00\n",
      "  2.71828183e+00 2.71828183e+00 2.71828183e+00 2.71828183e+00]\n",
      " [2.71828183e+00 2.71828183e+00 1.93413390e+04 1.93413390e+04\n",
      "  1.93413390e+04 1.93413390e+04 1.93413390e+04 1.93413390e+04]\n",
      " [2.71828183e+00 2.71828183e+00 1.93413390e+04 1.93413390e+04\n",
      "  1.93413390e+04 1.93413390e+04 1.93413390e+04 1.93413390e+04]\n",
      " [2.71828183e+00 2.71828183e+00 1.93413390e+04 1.93413390e+04\n",
      "  1.93413390e+04 1.93413390e+04 1.93413390e+04 1.93413390e+04]\n",
      " [2.71828183e+00 2.71828183e+00 1.93413390e+04 1.93413390e+04\n",
      "  1.93413390e+04 1.93413390e+04 1.93413390e+04 1.93413390e+04]\n",
      " [2.71828183e+00 2.71828183e+00 2.71828183e+00 2.71828183e+00\n",
      "  2.71828183e+00 2.71828183e+00 2.71828183e+00 2.71828183e+00]\n",
      " [2.71828183e+00 2.71828183e+00 2.71828183e+00 2.71828183e+00\n",
      "  2.71828183e+00 2.71828183e+00 2.71828183e+00 2.71828183e+00]\n",
      " [2.71828183e+00 2.71828183e+00 2.71828183e+00 2.71828183e+00\n",
      "  2.71828183e+00 2.71828183e+00 2.71828183e+00 2.71828183e+00]\n",
      " [2.71828183e+00 2.71828183e+00 2.71828183e+00 2.71828183e+00\n",
      "  2.71828183e+00 2.71828183e+00 2.71828183e+00 2.71828183e+00]]\n"
     ]
    }
   ],
   "source": [
    "# numpy functions can be used on whole arrays, say if\n",
    "# we want to do an exponential on every value in the matrix:\n",
    "a_o_exp = np.exp(a_o)\n",
    "print('Our large matrix is now: \\n', a_o_exp)"
   ]
  },
  {
   "cell_type": "code",
   "execution_count": 12,
   "metadata": {},
   "outputs": [
    {
     "name": "stdout",
     "output_type": "stream",
     "text": [
      "Array 1:\n",
      " [[1 2 3]\n",
      " [4 5 6]\n",
      " [7 8 9]]\n",
      "\n",
      "Array 2:\n",
      " [[  7   6   4]\n",
      " [ 12   5   1]\n",
      " [  2   2 249]]\n",
      "\n",
      "Array 3:\n",
      " [[  7.69861384   6.57596409   3.39112001]\n",
      " [ 10.90986417   3.04107573  -5.2794155 ]\n",
      " [ -0.8430134   -1.01064175 249.37597391]]\n"
     ]
    }
   ],
   "source": [
    "# Arrays can be added to each other, divided by each other etc.\n",
    "arr_1 = np.array([[1,2,3], [4,5,6], [7,8,9]])\n",
    "arr_2 = np.array([[7,6,4], [12,5,1], [2,2,249]])\n",
    "\n",
    "print('Array 1:\\n', arr_1)\n",
    "print('\\nArray 2:\\n', arr_2)\n",
    "\n",
    "# Do some calculations on arrays\n",
    "arr_3 = arr_2 + np.sin(arr_1) - arr_1/arr_2 \n",
    "print('\\nArray 3:\\n', arr_3)\n",
    "\n",
    "# Remember arrays need to be the appropriate size to do operation between them."
   ]
  },
  {
   "cell_type": "markdown",
   "metadata": {},
   "source": [
    "### Running functions on Numpy arrays in a loop"
   ]
  },
  {
   "cell_type": "code",
   "execution_count": 13,
   "metadata": {},
   "outputs": [
    {
     "name": "stdout",
     "output_type": "stream",
     "text": [
      "2\n",
      "6\n",
      "12\n",
      "20\n",
      "30\n",
      "42\n",
      "56\n",
      "72\n"
     ]
    }
   ],
   "source": [
    "# It is often useful to iterate over an array, \n",
    "# lets make an array and iterate over it.\n",
    "a = np.array([1, 2, 3, 4, 5, 6, 7, 8])\n",
    "for x in a:\n",
    "    print(x**2 + x)"
   ]
  },
  {
   "cell_type": "markdown",
   "metadata": {},
   "source": [
    "### Plotting Numpy arrays"
   ]
  },
  {
   "cell_type": "code",
   "execution_count": 14,
   "metadata": {},
   "outputs": [],
   "source": [
    "#Import a plotting library for Python to plot some numpy arrays\n",
    "from matplotlib import pyplot as plt"
   ]
  },
  {
   "cell_type": "code",
   "execution_count": 15,
   "metadata": {},
   "outputs": [
    {
     "name": "stdout",
     "output_type": "stream",
     "text": [
      "\n",
      "Our array y has values:  [0.         1.         1.41421356 1.73205081 2.         2.23606798\n",
      " 2.44948974 2.64575131 2.82842712]\n"
     ]
    },
    {
     "data": {
      "image/png": "[encoded data removed]",
      "text/plain": [
       "<Figure size 1200x750 with 1 Axes>"
      ]
     },
     "metadata": {},
     "output_type": "display_data"
    }
   ],
   "source": [
    "x = np.array(range(0,9))\n",
    "y = np.sqrt(x) # run a numpy function on the entire array.\n",
    "plt.plot(x,y)\n",
    "print('\\nOur array y has values: ', y)"
   ]
  },
  {
   "cell_type": "markdown",
   "metadata": {},
   "source": [
    "# Discounted Cash Flow Bare Bones\n"
   ]
  },
  {
   "cell_type": "code",
   "execution_count": 16,
   "metadata": {},
   "outputs": [],
   "source": [
    "import numpy as np\n",
    "from matplotlib import pyplot as plt"
   ]
  },
  {
   "cell_type": "code",
   "execution_count": 17,
   "metadata": {},
   "outputs": [
    {
     "data": {
      "text/plain": [
       "Text(0.5, 0, 'Cash Flow Year')"
      ]
     },
     "execution_count": 17,
     "metadata": {},
     "output_type": "execute_result"
    },
    {
     "data": {
      "image/png": "[encoded data removed]",
      "text/plain": [
       "<Figure size 1200x750 with 1 Axes>"
      ]
     },
     "metadata": {},
     "output_type": "display_data"
    }
   ],
   "source": [
    "import numpy as np\n",
    "from matplotlib import pyplot as plt\n",
    "\n",
    "numberYears = 20 # Number of years to project out\n",
    "yearNumber = np.array(range(1,numberYears+1)) # An array tracking the cash flow years [1, 2, 3, 4,...\n",
    "CF = np.ones(numberYears) * 1000 # Assumption of cash flow of $1000 per year\n",
    "\n",
    "plt.bar(yearNumber, height=CF)\n",
    "plt.ylabel('Cash Flow Value $')\n",
    "plt.xlabel('Cash Flow Year')"
   ]
  },
  {
   "cell_type": "code",
   "execution_count": 18,
   "metadata": {},
   "outputs": [
    {
     "name": "stdout",
     "output_type": "stream",
     "text": [
      "Year 0\tOriginal Cash Flow:  1000.0 \t Discounted Cash Flow:  862.1\n",
      "Year 1\tOriginal Cash Flow:  1000.0 \t Discounted Cash Flow:  743.2\n",
      "Year 2\tOriginal Cash Flow:  1000.0 \t Discounted Cash Flow:  640.7\n",
      "Year 3\tOriginal Cash Flow:  1000.0 \t Discounted Cash Flow:  552.3\n",
      "Year 4\tOriginal Cash Flow:  1000.0 \t Discounted Cash Flow:  476.1\n",
      "Year 5\tOriginal Cash Flow:  1000.0 \t Discounted Cash Flow:  410.4\n",
      "Year 6\tOriginal Cash Flow:  1000.0 \t Discounted Cash Flow:  353.8\n",
      "Year 7\tOriginal Cash Flow:  1000.0 \t Discounted Cash Flow:  305.0\n",
      "Year 8\tOriginal Cash Flow:  1000.0 \t Discounted Cash Flow:  263.0\n",
      "Year 9\tOriginal Cash Flow:  1000.0 \t Discounted Cash Flow:  226.7\n",
      "Year 10\tOriginal Cash Flow:  1000.0 \t Discounted Cash Flow:  195.4\n",
      "Year 11\tOriginal Cash Flow:  1000.0 \t Discounted Cash Flow:  168.5\n",
      "Year 12\tOriginal Cash Flow:  1000.0 \t Discounted Cash Flow:  145.2\n",
      "Year 13\tOriginal Cash Flow:  1000.0 \t Discounted Cash Flow:  125.2\n",
      "Year 14\tOriginal Cash Flow:  1000.0 \t Discounted Cash Flow:  107.9\n",
      "Year 15\tOriginal Cash Flow:  1000.0 \t Discounted Cash Flow:  93.0\n",
      "Year 16\tOriginal Cash Flow:  1000.0 \t Discounted Cash Flow:  80.2\n",
      "Year 17\tOriginal Cash Flow:  1000.0 \t Discounted Cash Flow:  69.1\n",
      "Year 18\tOriginal Cash Flow:  1000.0 \t Discounted Cash Flow:  59.6\n",
      "Year 19\tOriginal Cash Flow:  1000.0 \t Discounted Cash Flow:  51.4\n"
     ]
    }
   ],
   "source": [
    "DCF = np.array([]) # Empty array for DCF to be populated\n",
    "discountRate = 0.16 # 0.1 for 10%, 0.15 for 15%...\n",
    "\n",
    "# Loop through the cash flows and populate an array with equivalent \n",
    "# disocunted cash flows\n",
    "for i in range(0, len(CF)):\n",
    "    \n",
    "    # Discounted cash flow for year i\n",
    "    discountCashFlow = CF[i]/pow((1+discountRate),(i+1)) \n",
    "    \n",
    "    # Print out the values to see the calculation\n",
    "    print('Year '+str(i)+'\\tOriginal Cash Flow: ', CF[i], \n",
    "          '\\t', 'Discounted Cash Flow: ', round(discountCashFlow,1))\n",
    "    \n",
    "    # Append to the DCF array for plotting later\n",
    "    DCF = np.append(DCF, discountCashFlow)"
   ]
  },
  {
   "cell_type": "code",
   "execution_count": 19,
   "metadata": {},
   "outputs": [
    {
     "data": {
      "text/plain": [
       "<matplotlib.legend.Legend at 0x2bde51265d0>"
      ]
     },
     "execution_count": 19,
     "metadata": {},
     "output_type": "execute_result"
    },
    {
     "data": {
      "image/png": "[encoded data removed]",
      "text/plain": [
       "<Figure size 1200x750 with 1 Axes>"
      ]
     },
     "metadata": {},
     "output_type": "display_data"
    }
   ],
   "source": [
    "plt.bar(yearNumber, height=CF)\n",
    "plt.bar(yearNumber, height=DCF)\n",
    "plt.ylabel('Cash Flow Value $')\n",
    "plt.xlabel('Cash Flow Year')\n",
    "plt.legend(['Cash Flow', 'Discounted Cash Flow'])"
   ]
  },
  {
   "cell_type": "code",
   "execution_count": 20,
   "metadata": {},
   "outputs": [
    {
     "data": {
      "text/plain": [
       "np.float64(5928.840899552326)"
      ]
     },
     "execution_count": 20,
     "metadata": {},
     "output_type": "execute_result"
    }
   ],
   "source": [
    "DCF.sum() # Present value of discounted future cash flows"
   ]
  },
  {
   "cell_type": "markdown",
   "metadata": {},
   "source": [
    "## Excercise 5 Real Company DCF\n",
    "Here we will do a discounted cash flow calculation with Numpy.\n",
    "\n",
    "#### Unfortunately Toby has messed up our code! Try and fix it and get it working. Anything with a '?' has to be rectified."
   ]
  },
  {
   "cell_type": "code",
   "execution_count": 21,
   "metadata": {},
   "outputs": [
    {
     "ename": "SyntaxError",
     "evalue": "invalid syntax (3836637310.py, line 22)",
     "output_type": "error",
     "traceback": [
      "\u001b[1;36m  Cell \u001b[1;32mIn[21], line 22\u001b[1;36m\u001b[0m\n\u001b[1;33m    futureCashF???s = np.zeros(numY????)\u001b[0m\n\u001b[1;37m               ^\u001b[0m\n\u001b[1;31mSyntaxError\u001b[0m\u001b[1;31m:\u001b[0m invalid syntax\n"
     ]
    }
   ],
   "source": [
    "import numpy as np\n",
    "from matplotlib import pyplot as plt\n",
    "\n",
    "# Nice please to see cash flows is https://www.macrotrends.net/stocks/charts/INTC/intel/free-cash-flow\n",
    "\n",
    "#Here is the rough cash flow data for the company. Values in millions\n",
    "cashFlow_years = [2014, 2015, 2016, 2017, 2018, 2019, 2020]\n",
    "freeCashFlow = [10313.00, 11692.00, 12183.00, 10332.00, 14251.00, 16932.00, 20931.00]#intc\n",
    "freeCashFlowData = np.array([cashFlow_years, freeCashFlow])\n",
    "\n",
    "growth = np.zeros(6)\n",
    "for i in range(1, len(growth)+1):\n",
    "    growth[i-1] = (freeCashFlowData[1,i]/freeCashFlowData[1,i-1]-1) * 100\n",
    "\n",
    "def calcDCF(discRate, growthRate, currentFcf, numYears, startYear):\n",
    "    '''\n",
    "    Define a function that returns an array containing cash flow and \n",
    "    discounted cash flow for each future year.\n",
    "    '''\n",
    "    \n",
    "    # Start zero arrays and fill the array with a loop.\n",
    "    futureCashF???s = np.zeros(numY????)\n",
    "    futureDiscCashFlows = np.???os(numYears)\n",
    "    \n",
    "    # Now fill the array with a loop\n",
    "    for i in ra???(0, numYears):\n",
    "        futureCashFlows[i] = currentFcf * (growthRate+1) ** i\n",
    "        futureDiscCashFlows[i] = futureCashFlows[i]/((1+discRate)**i)\n",
    "    \n",
    "    # Have an array for the future years, from say, 2020 to 2020 + numYears\n",
    "    futureYears = np.ar???(ra???(startYear, startYear+numYears))\n",
    "    \n",
    "    # Return the arrays of: future cash flows\n",
    "    # Future discounted Cash Flows\n",
    "    # Future years that those cash flowws occur in\n",
    "    return [futureC???Flows, fut???DiscCashFlows, futureY????]"
   ]
  },
  {
   "cell_type": "code",
   "execution_count": 22,
   "metadata": {},
   "outputs": [
    {
     "ename": "SyntaxError",
     "evalue": "invalid syntax (609878333.py, line 3)",
     "output_type": "error",
     "traceback": [
      "\u001b[1;36m  Cell \u001b[1;32mIn[22], line 3\u001b[1;36m\u001b[0m\n\u001b[1;33m    [futureCashFlows, futureDiscCashFlows, futureYears] = calcDCF(discRate=0.???,\u001b[0m\n\u001b[1;37m                                                                             ^\u001b[0m\n\u001b[1;31mSyntaxError\u001b[0m\u001b[1;31m:\u001b[0m invalid syntax\n"
     ]
    }
   ],
   "source": [
    "# Run the function\n",
    "# Feel free to change the function arguments and see how they impact the valuation\n",
    "[futureCashFlows, futureDiscCashFlows, futureYears] = calcDCF(discRate=0.???, \n",
    "                                                              growthRate=0.05, \n",
    "                                                              currentFcf=19000, \n",
    "                                                              numYears=???, \n",
    "                                                              startYear=2020)\n",
    "\n",
    "# plot the past cash flows, future cash flows, \n",
    "# and discounted future cash flows on a graph.\n",
    "plt.plot(freeCashFlowData[0,:], \n",
    "         freeCashFlowData[1,:], \n",
    "         '-s', \n",
    "         label='Past free cash flows')\n",
    "\n",
    "plt.plot(futureYears, futureCashFlows, \n",
    "         '--d', label='Projected future cash flows')\n",
    "\n",
    "plt.plot(futureYears, futureDiscCashFlows, \n",
    "         '-x', label='Discounted value of future cash flows')\n",
    "\n",
    "\n",
    "plt.fill_between(futureYears, futureDiscCashFlows, 0, alpha=0.3)\n",
    "#plt.ylim([0, 35])\n",
    "plt.legend()\n",
    "plt.grid()\n",
    "plt.ylabel('INTC Free Cash Flow (For Year)')\n",
    "plt.title('Discounted Cash Flow Projection For INTC')"
   ]
  },
  {
   "cell_type": "code",
   "execution_count": 23,
   "metadata": {},
   "outputs": [
    {
     "ename": "NameError",
     "evalue": "name 'futureDiscCashFlows' is not defined",
     "output_type": "error",
     "traceback": [
      "\u001b[1;31m---------------------------------------------------------------------------\u001b[0m",
      "\u001b[1;31mNameError\u001b[0m                                 Traceback (most recent call last)",
      "Cell \u001b[1;32mIn[23], line 3\u001b[0m\n\u001b[0;32m      1\u001b[0m \u001b[38;5;66;03m# Print out the net present value of future cash flows.\u001b[39;00m\n\u001b[0;32m      2\u001b[0m \u001b[38;5;28mprint\u001b[39m(\u001b[38;5;124m'\u001b[39m\u001b[38;5;124mThe future value of discounted cash flows(the estimated company value) is:\u001b[39m\u001b[38;5;130;01m\\n\u001b[39;00m\u001b[38;5;124m'\u001b[39m,\n\u001b[1;32m----> 3\u001b[0m       \u001b[38;5;28mround\u001b[39m(futureDiscCashFlows\u001b[38;5;241m.\u001b[39msum()\u001b[38;5;241m/\u001b[39m\u001b[38;5;241m1000\u001b[39m, \u001b[38;5;241m2\u001b[39m),\n\u001b[0;32m      4\u001b[0m       \u001b[38;5;124m'\u001b[39m\u001b[38;5;124mBillion dollars\u001b[39m\u001b[38;5;124m'\u001b[39m)\n",
      "\u001b[1;31mNameError\u001b[0m: name 'futureDiscCashFlows' is not defined"
     ]
    }
   ],
   "source": [
    "# Print out the net present value of future cash flows.\n",
    "print('The future value of discounted cash flows(the estimated company value) is:\\n',\n",
    "      round(futureDiscCashFlows.sum()/1000, 2),\n",
    "      'Billion dollars')"
   ]
  },
  {
   "cell_type": "code",
   "execution_count": null,
   "metadata": {},
   "outputs": [],
   "source": []
  }
 ],
 "metadata": {
  "kernelspec": {
   "display_name": "Python 3 (ipykernel)",
   "language": "python",
   "name": "python3"
  },
  "language_info": {
   "codemirror_mode": {
    "name": "ipython",
    "version": 3
   },
   "file_extension": ".py",
   "mimetype": "text/x-python",
   "name": "python",
   "nbconvert_exporter": "python",
   "pygments_lexer": "ipython3",
   "version": "3.12.8"
  }
 },
 "nbformat": 4,
 "nbformat_minor": 4
}
